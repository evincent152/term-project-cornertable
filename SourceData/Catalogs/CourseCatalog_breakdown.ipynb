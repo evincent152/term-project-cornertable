{
 "cells": [
  {
   "cell_type": "markdown",
   "metadata": {},
   "source": [
    "## COURSECAT 2017_2018 "
   ]
  },
  {
   "cell_type": "code",
   "execution_count": 1,
   "metadata": {},
   "outputs": [
    {
     "data": {
      "text/html": [
       "<div>\n",
       "<style scoped>\n",
       "    .dataframe tbody tr th:only-of-type {\n",
       "        vertical-align: middle;\n",
       "    }\n",
       "\n",
       "    .dataframe tbody tr th {\n",
       "        vertical-align: top;\n",
       "    }\n",
       "\n",
       "    .dataframe thead th {\n",
       "        text-align: right;\n",
       "    }\n",
       "</style>\n",
       "<table border=\"1\" class=\"dataframe\">\n",
       "  <thead>\n",
       "    <tr style=\"text-align: right;\">\n",
       "      <th></th>\n",
       "      <th>program_code</th>\n",
       "      <th>program_name</th>\n",
       "      <th>catalog_id</th>\n",
       "      <th>course_title</th>\n",
       "      <th>credits</th>\n",
       "      <th>prereqs</th>\n",
       "      <th>coreqs</th>\n",
       "      <th>fees</th>\n",
       "      <th>attributes</th>\n",
       "      <th>description</th>\n",
       "    </tr>\n",
       "  </thead>\n",
       "  <tbody>\n",
       "    <tr>\n",
       "      <th>0</th>\n",
       "      <td>AN</td>\n",
       "      <td>Asian Studies</td>\n",
       "      <td>AN 0301</td>\n",
       "      <td>Independent Study</td>\n",
       "      <td>1-3 Credits</td>\n",
       "      <td>NaN</td>\n",
       "      <td>NaN</td>\n",
       "      <td>NaN</td>\n",
       "      <td>NaN</td>\n",
       "      <td>Students undertake an individualized program o...</td>\n",
       "    </tr>\n",
       "    <tr>\n",
       "      <th>1</th>\n",
       "      <td>AN</td>\n",
       "      <td>Asian Studies</td>\n",
       "      <td>AN 0310</td>\n",
       "      <td>Asian Studies Seminar</td>\n",
       "      <td>3 Credits</td>\n",
       "      <td>NaN</td>\n",
       "      <td>NaN</td>\n",
       "      <td>NaN</td>\n",
       "      <td>NaN</td>\n",
       "      <td>This seminar examines selected topics concerni...</td>\n",
       "    </tr>\n",
       "    <tr>\n",
       "      <th>2</th>\n",
       "      <td>BU</td>\n",
       "      <td>Business</td>\n",
       "      <td>BU 0211</td>\n",
       "      <td>Legal Environment of Business</td>\n",
       "      <td>3 Credits</td>\n",
       "      <td>Junior standing.</td>\n",
       "      <td>NaN</td>\n",
       "      <td>NaN</td>\n",
       "      <td>NaN</td>\n",
       "      <td>This course examines the broad philosophical a...</td>\n",
       "    </tr>\n",
       "    <tr>\n",
       "      <th>3</th>\n",
       "      <td>BU</td>\n",
       "      <td>Business</td>\n",
       "      <td>BU 0220</td>\n",
       "      <td>Environmental Law and Policy</td>\n",
       "      <td>3 Credits</td>\n",
       "      <td>NaN</td>\n",
       "      <td>NaN</td>\n",
       "      <td>NaN</td>\n",
       "      <td>EVME Environmental Studies Major Elective, EVP...</td>\n",
       "      <td>This course surveys issues arising out of fede...</td>\n",
       "    </tr>\n",
       "    <tr>\n",
       "      <th>4</th>\n",
       "      <td>BU</td>\n",
       "      <td>Business</td>\n",
       "      <td>BU 0311</td>\n",
       "      <td>The Law of Contracts, Sales, and Property</td>\n",
       "      <td>3 Credits</td>\n",
       "      <td>BU 0211.</td>\n",
       "      <td>NaN</td>\n",
       "      <td>NaN</td>\n",
       "      <td>NaN</td>\n",
       "      <td>This course examines the components of common ...</td>\n",
       "    </tr>\n",
       "  </tbody>\n",
       "</table>\n",
       "</div>"
      ],
      "text/plain": [
       "  program_code   program_name catalog_id  \\\n",
       "0           AN  Asian Studies    AN 0301   \n",
       "1           AN  Asian Studies    AN 0310   \n",
       "2           BU       Business    BU 0211   \n",
       "3           BU       Business    BU 0220   \n",
       "4           BU       Business    BU 0311   \n",
       "\n",
       "                                course_title      credits           prereqs  \\\n",
       "0                          Independent Study  1-3 Credits               NaN   \n",
       "1                      Asian Studies Seminar    3 Credits               NaN   \n",
       "2              Legal Environment of Business    3 Credits  Junior standing.   \n",
       "3               Environmental Law and Policy    3 Credits               NaN   \n",
       "4  The Law of Contracts, Sales, and Property    3 Credits          BU 0211.   \n",
       "\n",
       "  coreqs fees                                         attributes  \\\n",
       "0    NaN  NaN                                                NaN   \n",
       "1    NaN  NaN                                                NaN   \n",
       "2    NaN  NaN                                                NaN   \n",
       "3    NaN  NaN  EVME Environmental Studies Major Elective, EVP...   \n",
       "4    NaN  NaN                                                NaN   \n",
       "\n",
       "                                         description  \n",
       "0  Students undertake an individualized program o...  \n",
       "1  This seminar examines selected topics concerni...  \n",
       "2  This course examines the broad philosophical a...  \n",
       "3  This course surveys issues arising out of fede...  \n",
       "4  This course examines the components of common ...  "
      ]
     },
     "execution_count": 1,
     "metadata": {},
     "output_type": "execute_result"
    }
   ],
   "source": [
    "import pandas as pd\n",
    "df78 = pd.read_csv('CourseCatalog2017_2018.csv')\n",
    "df78.head(5)"
   ]
  },
  {
   "cell_type": "code",
   "execution_count": 2,
   "metadata": {},
   "outputs": [
    {
     "data": {
      "text/plain": [
       "program_code       0\n",
       "program_name       0\n",
       "catalog_id         0\n",
       "course_title       0\n",
       "credits            0\n",
       "prereqs         1091\n",
       "coreqs          2122\n",
       "fees            2095\n",
       "attributes      1454\n",
       "description      102\n",
       "dtype: int64"
      ]
     },
     "execution_count": 2,
     "metadata": {},
     "output_type": "execute_result"
    }
   ],
   "source": [
    "df78.isnull().sum()"
   ]
  },
  {
   "cell_type": "markdown",
   "metadata": {},
   "source": [
    "## COURSECAT 2018-2019"
   ]
  },
  {
   "cell_type": "code",
   "execution_count": null,
   "metadata": {},
   "outputs": [],
   "source": [
    "df89 = pd.read_csv('CourseCatalog2018_2019.csv')\n",
    "df89.head(5)"
   ]
  },
  {
   "cell_type": "code",
   "execution_count": null,
   "metadata": {},
   "outputs": [],
   "source": [
    "df89.isnull().sum()"
   ]
  },
  {
   "cell_type": "code",
   "execution_count": null,
   "metadata": {},
   "outputs": [],
   "source": [
    "df89.insert(0, 'Year', '2018-2019')\n",
    "df89.head()"
   ]
  },
  {
   "cell_type": "code",
   "execution_count": null,
   "metadata": {},
   "outputs": [],
   "source": [
    "df89.to_csv('CC18-19_updated.csv')"
   ]
  },
  {
   "cell_type": "code",
   "execution_count": null,
   "metadata": {},
   "outputs": [],
   "source": []
  }
 ],
 "metadata": {
  "kernelspec": {
   "display_name": "Python 3",
   "language": "python",
   "name": "python3"
  },
  "language_info": {
   "codemirror_mode": {
    "name": "ipython",
    "version": 3
   },
   "file_extension": ".py",
   "mimetype": "text/x-python",
   "name": "python",
   "nbconvert_exporter": "python",
   "pygments_lexer": "ipython3",
   "version": "3.6.7"
  }
 },
 "nbformat": 4,
 "nbformat_minor": 4
}
