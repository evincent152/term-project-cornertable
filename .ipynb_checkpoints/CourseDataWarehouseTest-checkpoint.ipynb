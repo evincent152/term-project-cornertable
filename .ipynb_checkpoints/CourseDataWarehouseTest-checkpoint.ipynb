{
 "cells": [
  {
   "cell_type": "markdown",
   "metadata": {},
   "source": [
    "# Questions"
   ]
  },
  {
   "cell_type": "markdown",
   "metadata": {},
   "source": [
    "- Which classroom is the most utilized?\n",
    "- Which classes go over capacity the most? (cap>0 use remainder to indicate overage)\n",
    "- Which professors has the most diverse courseload?\n",
    "- Which days are the most/least popular for classes?\n",
    "- Which teacher has taught the most students? (via actual, not cap)\n",
    "- Which classes are attracting less than 10 students? (> 0)"
   ]
  },
  {
   "cell_type": "code",
   "execution_count": null,
   "metadata": {},
   "outputs": [],
   "source": []
  }
 ],
 "metadata": {
  "kernelspec": {
   "display_name": "Python 3",
   "language": "python",
   "name": "python3"
  },
  "language_info": {
   "codemirror_mode": {
    "name": "ipython",
    "version": 3
   },
   "file_extension": ".py",
   "mimetype": "text/x-python",
   "name": "python",
   "nbconvert_exporter": "python",
   "pygments_lexer": "ipython3",
   "version": "3.6.7"
  }
 },
 "nbformat": 4,
 "nbformat_minor": 4
}
