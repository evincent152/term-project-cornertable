{
 "cells": [
  {
   "cell_type": "markdown",
   "metadata": {},
   "source": [
    "# CourseData ETL"
   ]
  },
  {
   "cell_type": "markdown",
   "metadata": {},
   "source": [
    "## STEP 1: Load SQL and create CourseData database"
   ]
  },
  {
   "cell_type": "code",
   "execution_count": 16,
   "metadata": {},
   "outputs": [
    {
     "name": "stdout",
     "output_type": "stream",
     "text": [
      "The sql extension is already loaded. To reload it, use:\n",
      "  %reload_ext sql\n"
     ]
    }
   ],
   "source": [
    "%load_ext sql\n",
    "import pandas as pd\n",
    "import sqlite3"
   ]
  },
  {
   "cell_type": "code",
   "execution_count": 17,
   "metadata": {},
   "outputs": [],
   "source": [
    "%sql sqlite:///CourseData.db\n",
    "conn = sqlite3.connect('CourseData.db')"
   ]
  },
  {
   "cell_type": "markdown",
   "metadata": {},
   "source": [
    "## STEP 2: Create tables as designed in Lucidchart"
   ]
  },
  {
   "cell_type": "code",
   "execution_count": null,
   "metadata": {},
   "outputs": [],
   "source": [
    "%%sql\n",
    "\n",
    "DROP TABLE IF EXISTS PROFESSORS;\n",
    "CREATE TABLE PROFESSORS (\n",
    "    Professor_id INTEGER PRIMARY KEY,\n",
    "    Name TEXT NOT NULL\n",
    ");"
   ]
  },
  {
   "cell_type": "code",
   "execution_count": null,
   "metadata": {},
   "outputs": [],
   "source": [
    "%%sql\n",
    "DROP TABLE IF EXISTS PROGRAMS;\n",
    "CREATE TABLE PROGRAMS (\n",
    "    Program_id INTEGER PRIMARY KEY,\n",
    "    program_code TEXT(2) NOT NULL,\n",
    "    program_name TEXT NOT NULL\n",
    ");"
   ]
  },
  {
   "cell_type": "code",
   "execution_count": null,
   "metadata": {},
   "outputs": [],
   "source": [
    "%%sql\n",
    "DROP TABLE IF EXISTS LOCATIONS;\n",
    "CREATE TABLE LOCATIONS (\n",
    "    Location_id INTEGER PRIMARY KEY,\n",
    "    location TEXT NOT NULL\n",
    ");"
   ]
  },
  {
   "cell_type": "code",
   "execution_count": null,
   "metadata": {},
   "outputs": [],
   "source": [
    "%%sql\n",
    "DROP TABLE IF EXISTS MEETINGS;\n",
    "CREATE TABLE MEETINGS (\n",
    "    Meetings_id INTEGER PRIMARY KEY, \n",
    "    Meetings TEXT,\n",
    "    Day TEXT,\n",
    "    Start TEXT NOT NULL,\n",
    "    End TEXT NOT NULL,\n",
    "    Location_id INTEGER NOT NULL,\n",
    "    FOREIGN KEY (Location_id) REFERENCES LOCATIONS(Location_id)\n",
    ");"
   ]
  },
  {
   "cell_type": "code",
   "execution_count": null,
   "metadata": {},
   "outputs": [],
   "source": [
    "%%sql\n",
    "DROP TABLE IF EXISTS COURSES;\n",
    "CREATE TABLE COURSES (\n",
    "    Course_id INTEGER PRIMARY KEY, \n",
    "    Catalog_id TEXT NOT NULL,\n",
    "    Term TEXT NOT NULL,\n",
    "    Title TEXT NOT NULL,\n",
    "    Credits TEXT NOT NULL,\n",
    "    Attributes TEXT,\n",
    "    Prereqs TEXT NOT NULL,\n",
    "    Coreqs TEXT,\n",
    "    Description TEXT,\n",
    "    Fee TEXT,\n",
    "    Program_id INTEGER NOT NULL,\n",
    "    FOREIGN KEY (Program_id) REFERENCES PROGRAMS(Program_id)\n",
    ");"
   ]
  },
  {
   "cell_type": "markdown",
   "metadata": {},
   "source": [
    "^^^ check with group to determine what type of data \"credits\" applies to"
   ]
  },
  {
   "cell_type": "code",
   "execution_count": null,
   "metadata": {},
   "outputs": [],
   "source": [
    "%%sql\n",
    "DROP TABLE IF EXISTS COURSE_OFFERINGS;\n",
    "CREATE TABLE COURSE_OFFERINGS (\n",
    "    Offering_id INTEGER PRIMARY KEY, \n",
    "    Cap INTEGER NOT NULL,\n",
    "    Section TEXT NOT NULL,\n",
    "    Crn INTEGER NOT NULL,\n",
    "    Actual INTEGER NOT NULL,\n",
    "    Remaining INTEGER NOT NULL,\n",
    "    Timecodes TEXT,\n",
    "    Course_id INTEGER NOT NULL,\n",
    "    Professor_id INTEGER NOT NULL,\n",
    "    Meetings_id INTEGER NOT NULL,\n",
    "    FOREIGN KEY (Course_id) REFERENCES COURSES(Course_id),\n",
    "    FOREIGN KEY (Professor_id) REFERENCES PROFESSORS(Professor_id),\n",
    "    FOREIGN KEY (Meetings_id) REFERENCES MEETINGS(Meetings_id)\n",
    ");"
   ]
  },
  {
   "cell_type": "markdown",
   "metadata": {},
   "source": [
    "## STEP 3: Import CSV files"
   ]
  },
  {
   "cell_type": "code",
   "execution_count": 18,
   "metadata": {},
   "outputs": [],
   "source": [
    "# importing course catalog csvs (taken from professsor's example )\n",
    "course_catalog = ['2017_2018', '2018_2019']\n",
    "\n",
    "# loop using pandas\n",
    "for cat_year in course_catalog:\n",
    "    path = 'SourceData/Catalogs/CourseCatalog'+cat_year+'.csv' # path to directory\n",
    "    data = pd.read_csv(path) # read all csvs in path\n",
    "    data['Term'] = cat_year # add new column 'Term' to differentiate between 2017-18, 2018-19\n",
    "    data.to_sql('IMPORT_CATALOG_COURSES',conn,if_exists='append',index=False) # converting to sql & unique"
   ]
  },
  {
   "cell_type": "code",
   "execution_count": 29,
   "metadata": {},
   "outputs": [
    {
     "ename": "TypeError",
     "evalue": "must be str, not list",
     "output_type": "error",
     "traceback": [
      "\u001b[0;31m---------------------------------------------------------------------------\u001b[0m",
      "\u001b[0;31mTypeError\u001b[0m                                 Traceback (most recent call last)",
      "\u001b[0;32m<ipython-input-29-c17926b36b0e>\u001b[0m in \u001b[0;36m<module>\u001b[0;34m\u001b[0m\n\u001b[1;32m      5\u001b[0m \u001b[0;34m\u001b[0m\u001b[0m\n\u001b[1;32m      6\u001b[0m \u001b[0;32mfor\u001b[0m \u001b[0msemester\u001b[0m \u001b[0;32min\u001b[0m \u001b[0msemesters\u001b[0m\u001b[0;34m:\u001b[0m \u001b[0;31m# loop over pandas\u001b[0m\u001b[0;34m\u001b[0m\u001b[0;34m\u001b[0m\u001b[0m\n\u001b[0;32m----> 7\u001b[0;31m     \u001b[0mpath\u001b[0m \u001b[0;34m=\u001b[0m \u001b[0;34m'SourceData/'\u001b[0m\u001b[0;34m+\u001b[0m\u001b[0msemesters\u001b[0m\u001b[0;34m+\u001b[0m\u001b[0;34m'/course_meetings.csv'\u001b[0m\u001b[0;34m\u001b[0m\u001b[0;34m\u001b[0m\u001b[0m\n\u001b[0m\u001b[1;32m      8\u001b[0m     \u001b[0mdata\u001b[0m \u001b[0;34m=\u001b[0m \u001b[0mpd\u001b[0m\u001b[0;34m.\u001b[0m\u001b[0mread_csv\u001b[0m\u001b[0;34m(\u001b[0m\u001b[0mpath\u001b[0m\u001b[0;34m)\u001b[0m\u001b[0;34m\u001b[0m\u001b[0;34m\u001b[0m\u001b[0m\n\u001b[1;32m      9\u001b[0m     \u001b[0mdata\u001b[0m\u001b[0;34m.\u001b[0m\u001b[0mto_sql\u001b[0m\u001b[0;34m(\u001b[0m\u001b[0;34m'IMPORT_COURSE_MEETINGS'\u001b[0m\u001b[0;34m,\u001b[0m\u001b[0mconn\u001b[0m\u001b[0;34m,\u001b[0m\u001b[0mif_exists\u001b[0m\u001b[0;34m=\u001b[0m\u001b[0;34m'append'\u001b[0m\u001b[0;34m,\u001b[0m\u001b[0mindex\u001b[0m\u001b[0;34m=\u001b[0m\u001b[0;32mFalse\u001b[0m\u001b[0;34m)\u001b[0m \u001b[0;31m# converting to sql & unique\u001b[0m\u001b[0;34m\u001b[0m\u001b[0;34m\u001b[0m\u001b[0m\n",
      "\u001b[0;31mTypeError\u001b[0m: must be str, not list"
     ]
    }
   ],
   "source": [
    "# meetings df\n",
    "\n",
    "semesters = ['Fall2014','Fall2015','Fall2016','Fall2017','Fall2018','Spring2015', 'Spring2016','Spring2017','Spring2018','Spring2019','SpringBreak2017',\n",
    "                   'Summer2015', 'Summer2016','Summer2017','Summer2018','Winter2015','Winter2016', 'Winter2017','Winter2018']\n",
    "\n",
    "for semester in semesters: \n",
    "    path = 'SourceData/'+semesters+'/course_meetings.csv'\n",
    "    data = pd.read_csv(path)\n",
    "    data.to_sql('IMPORT_COURSE_MEETINGS',conn,if_exists='append',index=False) "
   ]
  },
  {
   "cell_type": "code",
   "execution_count": 28,
   "metadata": {},
   "outputs": [
    {
     "ename": "TypeError",
     "evalue": "must be str, not list",
     "output_type": "error",
     "traceback": [
      "\u001b[0;31m---------------------------------------------------------------------------\u001b[0m",
      "\u001b[0;31mTypeError\u001b[0m                                 Traceback (most recent call last)",
      "\u001b[0;32m<ipython-input-28-c212342b39f3>\u001b[0m in \u001b[0;36m<module>\u001b[0;34m\u001b[0m\n\u001b[1;32m      4\u001b[0m \u001b[0;34m\u001b[0m\u001b[0m\n\u001b[1;32m      5\u001b[0m \u001b[0;32mfor\u001b[0m \u001b[0msemester\u001b[0m \u001b[0;32min\u001b[0m \u001b[0msemesters\u001b[0m\u001b[0;34m:\u001b[0m \u001b[0;31m# loop over pandas\u001b[0m\u001b[0;34m\u001b[0m\u001b[0;34m\u001b[0m\u001b[0m\n\u001b[0;32m----> 6\u001b[0;31m     \u001b[0mpath\u001b[0m \u001b[0;34m=\u001b[0m \u001b[0;34m'SourceData/'\u001b[0m\u001b[0;34m+\u001b[0m\u001b[0msemesters\u001b[0m\u001b[0;34m+\u001b[0m\u001b[0;34m'/courses.csv'\u001b[0m\u001b[0;34m\u001b[0m\u001b[0;34m\u001b[0m\u001b[0m\n\u001b[0m\u001b[1;32m      7\u001b[0m     \u001b[0mdata\u001b[0m \u001b[0;34m=\u001b[0m \u001b[0mpd\u001b[0m\u001b[0;34m.\u001b[0m\u001b[0mread_csv\u001b[0m\u001b[0;34m(\u001b[0m\u001b[0mpath\u001b[0m\u001b[0;34m)\u001b[0m\u001b[0;34m\u001b[0m\u001b[0;34m\u001b[0m\u001b[0m\n\u001b[1;32m      8\u001b[0m     \u001b[0mdata\u001b[0m\u001b[0;34m.\u001b[0m\u001b[0mto_sql\u001b[0m\u001b[0;34m(\u001b[0m\u001b[0;34m'IMPORT_COURSE_OFFERINGS'\u001b[0m\u001b[0;34m,\u001b[0m\u001b[0mconn\u001b[0m\u001b[0;34m,\u001b[0m\u001b[0mif_exists\u001b[0m\u001b[0;34m=\u001b[0m\u001b[0;34m'append'\u001b[0m\u001b[0;34m,\u001b[0m\u001b[0mindex\u001b[0m\u001b[0;34m=\u001b[0m\u001b[0;32mFalse\u001b[0m\u001b[0;34m)\u001b[0m \u001b[0;31m# converting to sql & unique\u001b[0m\u001b[0;34m\u001b[0m\u001b[0;34m\u001b[0m\u001b[0m\n",
      "\u001b[0;31mTypeError\u001b[0m: must be str, not list"
     ]
    }
   ],
   "source": [
    "# courses df\n",
    "semesters = ['Fall2014','Fall2015','Fall2016','Fall2017','Fall2018','Spring2015', 'Spring2016','Spring2017','Spring2018','Spring2019','SpringBreak2017',\n",
    "                   'Summer2015', 'Summer2016','Summer2017','Summer2018','Winter2015','Winter2016', 'Winter2017','Winter2018']\n",
    "\n",
    "for semester in semesters:\n",
    "    path = 'SourceData/'+semesters+'/courses.csv'\n",
    "    data = pd.read_csv(path)\n",
    "    data.to_sql('IMPORT_COURSE_OFFERINGS',conn,if_exists='append',index=False) "
   ]
  },
  {
   "cell_type": "code",
   "execution_count": null,
   "metadata": {},
   "outputs": [],
   "source": []
  }
 ],
 "metadata": {
  "kernelspec": {
   "display_name": "Python 3",
   "language": "python",
   "name": "python3"
  },
  "language_info": {
   "codemirror_mode": {
    "name": "ipython",
    "version": 3
   },
   "file_extension": ".py",
   "mimetype": "text/x-python",
   "name": "python",
   "nbconvert_exporter": "python",
   "pygments_lexer": "ipython3",
   "version": "3.6.7"
  }
 },
 "nbformat": 4,
 "nbformat_minor": 4
}
